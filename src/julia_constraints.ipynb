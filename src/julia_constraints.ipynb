{
 "cells": [
  {
   "cell_type": "markdown",
   "metadata": {},
   "source": [
    "# Solve a constrained optimization problem with a Penalty Function"
   ]
  },
  {
   "cell_type": "markdown",
   "metadata": {},
   "source": [
    "minimize $f=-x_1 x_2$  \n",
    "subject to  \n",
    "$g_1 = x_1 + x_2^2 - 1 \\leq 0$  \n",
    "$g_2 = -x_1 - x_2^2 \\leq 0$"
   ]
  },
  {
   "cell_type": "markdown",
   "metadata": {},
   "source": [
    "We transform the contrained problem into an unconstrained problem and then solve it with eg SGD"
   ]
  },
  {
   "cell_type": "markdown",
   "metadata": {},
   "source": [
    "Penalty methods start with an initial point $\\bf{x}$ and a small value for $\\rho$. The unconstrained optimization problem is then solved. The resulting design point is then used as the starting point for another optimization with an increased penalty. We continue with this procedure until the resulting point is feasible or a mx number of iterations has been reached. Use quadratic penalties to produce a smooth objective function."
   ]
  },
  {
   "cell_type": "code",
   "execution_count": 9,
   "metadata": {},
   "outputs": [],
   "source": [
    "using PyPlot\n",
    "using Optim"
   ]
  },
  {
   "cell_type": "code",
   "execution_count": 10,
   "metadata": {},
   "outputs": [
    {
     "data": {
      "text/plain": [
       "g2 (generic function with 1 method)"
      ]
     },
     "execution_count": 10,
     "metadata": {},
     "output_type": "execute_result"
    }
   ],
   "source": [
    "f(x) = -x[1]*x[2]\n",
    "g1(x) = x[1] + x[2]^2 - 1\n",
    "g2(x) = -x[1] - x[2]"
   ]
  },
  {
   "cell_type": "code",
   "execution_count": 11,
   "metadata": {},
   "outputs": [
    {
     "data": {
      "text/plain": [
       "penaltyFunctionTrace (generic function with 1 method)"
      ]
     },
     "execution_count": 11,
     "metadata": {},
     "output_type": "execute_result"
    }
   ],
   "source": [
    "function penaltyFunctionTrace(f, P, x0, r)\n",
    "    T(x, r) = f(x) + r * P(x)\n",
    "    x = x0\n",
    "    trace = x\n",
    "    for i = 1:length(r)\n",
    "        result = optimize(x -> T(x, r[i]), x)\n",
    "        show(result)\n",
    "        x .= result.minimum\n",
    "        println(x)\n",
    "        trace = [trace x]\n",
    "    end\n",
    "    return trace\n",
    "end"
   ]
  },
  {
   "cell_type": "code",
   "execution_count": 12,
   "metadata": {},
   "outputs": [
    {
     "data": {
      "image/png": "[encoded data removed]",
      "text/plain": [
       "Figure(PyObject <Figure size 640x480 with 1 Axes>)"
      ]
     },
     "metadata": {},
     "output_type": "display_data"
    },
    {
     "name": "stdout",
     "output_type": "stream",
     "text": [
      " * Status: success\n",
      "\n",
      " * Candidate solution\n",
      "    Minimizer: [8.89e-01, 6.67e-01]\n",
      "    Minimum:   -4.814815e-01\n",
      "\n",
      " * Found with\n",
      "    Algorithm:     Nelder-Mead\n",
      "    Initial Point: [1.00e+00, 5.00e+00]\n",
      "\n",
      " * Convergence measures\n",
      "    √(Σ(yᵢ-ȳ)²)/n ≤ 1.0e-08\n",
      "\n",
      " * Work counters\n",
      "    Seconds run:   0  (vs limit Inf)\n",
      "    Iterations:    38\n",
      "    f(x) calls:    77\n",
      "[-0.481481, -0.481481]\n",
      " * Status: success\n",
      "\n",
      " * Candidate solution\n",
      "    Minimizer: [6.86e-01, 5.86e-01]\n",
      "    Minimum:   -3.933550e-01\n",
      "\n",
      " * Found with\n",
      "    Algorithm:     Nelder-Mead\n",
      "    Initial Point: [-4.81e-01, -4.81e-01]\n",
      "\n",
      " * Convergence measures\n",
      "    √(Σ(yᵢ-ȳ)²)/n ≤ 1.0e-08\n",
      "\n",
      " * Work counters\n",
      "    Seconds run:   0  (vs limit Inf)\n",
      "    Iterations:    36\n",
      "    f(x) calls:    72\n",
      "[-0.393355, -0.393355]\n",
      " * Status: success\n",
      "\n",
      " * Candidate solution\n",
      "    Minimizer: [6.69e-01, 5.78e-01]\n",
      "    Minimum:   -3.857347e-01\n",
      "\n",
      " * Found with\n",
      "    Algorithm:     Nelder-Mead\n",
      "    Initial Point: [-3.93e-01, -3.93e-01]\n",
      "\n",
      " * Convergence measures\n",
      "    √(Σ(yᵢ-ȳ)²)/n ≤ 1.0e-08\n",
      "\n",
      " * Work counters\n",
      "    Seconds run:   0  (vs limit Inf)\n",
      "    Iterations:    43\n",
      "    f(x) calls:    85\n",
      "[-0.385735, -0.385735]\n",
      " * Status: success\n",
      "\n",
      " * Candidate solution\n",
      "    Minimizer: [6.67e-01, 5.77e-01]\n",
      "    Minimum:   -3.849835e-01\n",
      "\n",
      " * Found with\n",
      "    Algorithm:     Nelder-Mead\n",
      "    Initial Point: [-3.86e-01, -3.86e-01]\n",
      "\n",
      " * Convergence measures\n",
      "    √(Σ(yᵢ-ȳ)²)/n ≤ 1.0e-08\n",
      "\n",
      " * Work counters\n",
      "    Seconds run:   0  (vs limit Inf)\n",
      "    Iterations:    60\n",
      "    f(x) calls:    118\n",
      "[-0.384984, -0.384984]\n",
      " * Status: success\n",
      "\n",
      " * Candidate solution\n",
      "    Minimizer: [6.67e-01, 5.77e-01]\n",
      "    Minimum:   -3.849085e-01\n",
      "\n",
      " * Found with\n",
      "    Algorithm:     Nelder-Mead\n",
      "    Initial Point: [-3.85e-01, -3.85e-01]\n",
      "\n",
      " * Convergence measures\n",
      "    √(Σ(yᵢ-ȳ)²)/n ≤ 1.0e-08\n",
      "\n",
      " * Work counters\n",
      "    Seconds run:   0  (vs limit Inf)\n",
      "    Iterations:    50\n",
      "    f(x) calls:    96\n",
      "[-0.384909, -0.384909]\n"
     ]
    },
    {
     "data": {
      "text/plain": [
       "2×6 Array{Float64,2}:\n",
       " -0.481481  -0.481481  -0.393355  -0.385735  -0.384984  -0.384909\n",
       " -0.481481  -0.481481  -0.393355  -0.385735  -0.384984  -0.384909"
      ]
     },
     "execution_count": 12,
     "metadata": {},
     "output_type": "execute_result"
    }
   ],
   "source": [
    "P(x) = max(0, g1(x))^2 + max(0, g2(x))^2\n",
    "trace = penaltyFunctionTrace(f, P, [1., 5.], [1, 10, 100, 1e3, 1e4])\n",
    "plot(trace)\n",
    "trace\n"
   ]
  },
  {
   "cell_type": "markdown",
   "metadata": {},
   "source": [
    "Can not always ensure feasibility"
   ]
  },
  {
   "cell_type": "markdown",
   "metadata": {},
   "source": [
    "# Solve a constrained optimization problem with Interior Point Methods"
   ]
  },
  {
   "cell_type": "markdown",
   "metadata": {},
   "source": [
    "Ensure that the search point always remain feasible  \n",
    "minimize $f(x)+ p_{barrier}(\\bf{x})/\\rho$"
   ]
  },
  {
   "cell_type": "markdown",
   "metadata": {},
   "source": [
    "barrier approaches infinity as one approaches a constraint boundary (ie as one approaches infeasibility)    \n",
    "when $\\rho$ is increased, the penalty for approaching the boundary decreases  \n",
    "The inerior point method requires a feasible point from which to start the search  \n",
    "Start with $\\min p_{quadratic}(\\bf{x})$"
   ]
  },
  {
   "cell_type": "code",
   "execution_count": 13,
   "metadata": {},
   "outputs": [
    {
     "data": {
      "text/plain": [
       "interiorPointMethod (generic function with 1 method)"
      ]
     },
     "execution_count": 13,
     "metadata": {},
     "output_type": "execute_result"
    }
   ],
   "source": [
    "function interiorPointMethod(f, P, x; ρ=1, γ=2, ϵ=0.001)\n",
    "    delta = Inf\n",
    "    while delta > ϵ\n",
    "        xp = minimize(x -> f(x) + p(x)/ρ, x)\n",
    "        delta = norm(xp-x)\n",
    "        x = xp\n",
    "        ρ *= γ\n",
    "    end\n",
    "    return x\n",
    "end"
   ]
  },
  {
   "cell_type": "code",
   "execution_count": null,
   "metadata": {},
   "outputs": [],
   "source": []
  }
 ],
 "metadata": {
  "kernelspec": {
   "display_name": "Julia 1.0.4",
   "language": "julia",
   "name": "julia-1.0"
  },
  "language_info": {
   "file_extension": ".jl",
   "mimetype": "application/julia",
   "name": "julia",
   "version": "1.0.4"
  }
 },
 "nbformat": 4,
 "nbformat_minor": 2
}
